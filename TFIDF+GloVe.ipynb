{
 "cells": [
  {
   "cell_type": "code",
   "execution_count": 1,
   "metadata": {
    "_cell_guid": "79c7e3d0-c299-4dcb-8224-4455121ee9b0",
    "_uuid": "d629ff2d2480ee46fbb7e2d37f6b5fab8052498a"
   },
   "outputs": [
    {
     "name": "stderr",
     "output_type": "stream",
     "text": [
      "Using TensorFlow backend.\n"
     ]
    }
   ],
   "source": [
    "import numpy as np\n",
    "import pandas as pd\n",
    "import zipfile\n",
    "import os\n",
    "import numpy as np\n",
    "import matplotlib.pyplot as plt\n",
    "import gensim\n",
    "from nltk.corpus import brown\n",
    "import random\n",
    "from sklearn.model_selection import KFold\n",
    "\n",
    "import gc\n",
    "\n",
    "from sklearn.feature_extraction.text import TfidfVectorizer\n",
    "from sklearn.decomposition import TruncatedSVD\n",
    "\n",
    "from keras.models import Sequential\n",
    "from keras.layers import Dense, Activation\n",
    "from keras.callbacks.callbacks import EarlyStopping\n",
    "from scipy.stats import spearmanr\n",
    "from nltk.corpus import wordnet as wn\n",
    "#import tqdm\n",
    "from sklearn.model_selection import StratifiedKFold\n",
    "import sklearn.model_selection as ms\n",
    "from sklearn import svm\n",
    "import sklearn.naive_bayes as nb\n",
    "\n",
    "import re\n",
    "\n",
    "from nltk.corpus import stopwords\n",
    "from nltk.stem.porter import PorterStemmer\n",
    "import nltk\n",
    "\n",
    "from wordcloud import WordCloud, STOPWORDS\n",
    "\n",
    "import json"
   ]
  },
  {
   "cell_type": "code",
   "execution_count": 2,
   "metadata": {},
   "outputs": [],
   "source": [
    "zf = zipfile.ZipFile('wine-reviews.zip') \n",
    "#dataset = pd.read_csv(zf.open('winemag-data-130k-v2.csv'))\n",
    "description = json.load(zf.open('winemag-data-130k-v2.json'))"
   ]
  },
  {
   "cell_type": "code",
   "execution_count": 3,
   "metadata": {},
   "outputs": [],
   "source": [
    "dataset = pd.DataFrame(description)"
   ]
  },
  {
   "cell_type": "code",
   "execution_count": 4,
   "metadata": {},
   "outputs": [
    {
     "name": "stdout",
     "output_type": "stream",
     "text": [
      "<class 'pandas.core.frame.DataFrame'>\n",
      "RangeIndex: 129971 entries, 0 to 129970\n",
      "Data columns (total 13 columns):\n",
      "country                  129908 non-null object\n",
      "description              129971 non-null object\n",
      "designation              92506 non-null object\n",
      "points                   129971 non-null object\n",
      "price                    120975 non-null float64\n",
      "province                 129908 non-null object\n",
      "region_1                 108724 non-null object\n",
      "region_2                 50511 non-null object\n",
      "taster_name              103727 non-null object\n",
      "taster_twitter_handle    98758 non-null object\n",
      "title                    129971 non-null object\n",
      "variety                  129970 non-null object\n",
      "winery                   129971 non-null object\n",
      "dtypes: float64(1), object(12)\n",
      "memory usage: 12.9+ MB\n"
     ]
    }
   ],
   "source": [
    "dataset.info()"
   ]
  },
  {
   "cell_type": "code",
   "execution_count": 4,
   "metadata": {},
   "outputs": [],
   "source": [
    "dataset[\"points\"] = dataset.points.astype(float)"
   ]
  },
  {
   "cell_type": "code",
   "execution_count": 5,
   "metadata": {},
   "outputs": [
    {
     "data": {
      "text/plain": [
       "1    74376\n",
       "2    32754\n",
       "0    21960\n",
       "3      881\n",
       "Name: rating, dtype: int64"
      ]
     },
     "execution_count": 5,
     "metadata": {},
     "output_type": "execute_result"
    }
   ],
   "source": [
    "# Converting Points to Classes \n",
    "\n",
    "def points_to_class(points):\n",
    "    if points in range(80,86):\n",
    "        return 0\n",
    "    elif points in range(86,91):\n",
    "        return 1\n",
    "    elif points in range(91,96):\n",
    "        return 2\n",
    "    else:\n",
    "        return 3\n",
    "  \n",
    "    \n",
    "dataset[\"rating\"] = dataset[\"points\"].apply(points_to_class)\n",
    "\n",
    "\n",
    "\"\"\" Ratings are unbalanced \"\"\"\n",
    "\n",
    "dataset[\"rating\"].value_counts()"
   ]
  },
  {
   "cell_type": "code",
   "execution_count": 7,
   "metadata": {},
   "outputs": [
    {
     "data": {
      "text/html": [
       "<div>\n",
       "<style scoped>\n",
       "    .dataframe tbody tr th:only-of-type {\n",
       "        vertical-align: middle;\n",
       "    }\n",
       "\n",
       "    .dataframe tbody tr th {\n",
       "        vertical-align: top;\n",
       "    }\n",
       "\n",
       "    .dataframe thead th {\n",
       "        text-align: right;\n",
       "    }\n",
       "</style>\n",
       "<table border=\"1\" class=\"dataframe\">\n",
       "  <thead>\n",
       "    <tr style=\"text-align: right;\">\n",
       "      <th></th>\n",
       "      <th>points</th>\n",
       "      <th>price</th>\n",
       "      <th>rating</th>\n",
       "    </tr>\n",
       "  </thead>\n",
       "  <tbody>\n",
       "    <tr>\n",
       "      <th>count</th>\n",
       "      <td>129971.000000</td>\n",
       "      <td>120975.000000</td>\n",
       "      <td>129971.000000</td>\n",
       "    </tr>\n",
       "    <tr>\n",
       "      <th>mean</th>\n",
       "      <td>88.447138</td>\n",
       "      <td>35.363389</td>\n",
       "      <td>1.096606</td>\n",
       "    </tr>\n",
       "    <tr>\n",
       "      <th>std</th>\n",
       "      <td>3.039730</td>\n",
       "      <td>41.022218</td>\n",
       "      <td>0.662386</td>\n",
       "    </tr>\n",
       "    <tr>\n",
       "      <th>min</th>\n",
       "      <td>80.000000</td>\n",
       "      <td>4.000000</td>\n",
       "      <td>0.000000</td>\n",
       "    </tr>\n",
       "    <tr>\n",
       "      <th>25%</th>\n",
       "      <td>86.000000</td>\n",
       "      <td>17.000000</td>\n",
       "      <td>1.000000</td>\n",
       "    </tr>\n",
       "    <tr>\n",
       "      <th>50%</th>\n",
       "      <td>88.000000</td>\n",
       "      <td>25.000000</td>\n",
       "      <td>1.000000</td>\n",
       "    </tr>\n",
       "    <tr>\n",
       "      <th>75%</th>\n",
       "      <td>91.000000</td>\n",
       "      <td>42.000000</td>\n",
       "      <td>2.000000</td>\n",
       "    </tr>\n",
       "    <tr>\n",
       "      <th>max</th>\n",
       "      <td>100.000000</td>\n",
       "      <td>3300.000000</td>\n",
       "      <td>3.000000</td>\n",
       "    </tr>\n",
       "  </tbody>\n",
       "</table>\n",
       "</div>"
      ],
      "text/plain": [
       "              points          price         rating\n",
       "count  129971.000000  120975.000000  129971.000000\n",
       "mean       88.447138      35.363389       1.096606\n",
       "std         3.039730      41.022218       0.662386\n",
       "min        80.000000       4.000000       0.000000\n",
       "25%        86.000000      17.000000       1.000000\n",
       "50%        88.000000      25.000000       1.000000\n",
       "75%        91.000000      42.000000       2.000000\n",
       "max       100.000000    3300.000000       3.000000"
      ]
     },
     "execution_count": 7,
     "metadata": {},
     "output_type": "execute_result"
    }
   ],
   "source": [
    "dataset.describe()"
   ]
  },
  {
   "cell_type": "code",
   "execution_count": 8,
   "metadata": {},
   "outputs": [
    {
     "data": {
      "text/plain": [
       "country                     63\n",
       "description                  0\n",
       "designation              37465\n",
       "points                       0\n",
       "price                     8996\n",
       "province                    63\n",
       "region_1                 21247\n",
       "region_2                 79460\n",
       "taster_name              26244\n",
       "taster_twitter_handle    31213\n",
       "title                        0\n",
       "variety                      1\n",
       "winery                       0\n",
       "rating                       0\n",
       "dtype: int64"
      ]
     },
     "execution_count": 8,
     "metadata": {},
     "output_type": "execute_result"
    }
   ],
   "source": [
    "dataset.isnull().sum()"
   ]
  },
  {
   "cell_type": "code",
   "execution_count": 6,
   "metadata": {},
   "outputs": [
    {
     "data": {
      "image/png": "[encoded data removed]",
      "text/plain": [
       "<Figure size 432x288 with 1 Axes>"
      ]
     },
     "metadata": {
      "needs_background": "light"
     },
     "output_type": "display_data"
    }
   ],
   "source": [
    "plt.hist(dataset['points'],bins=20,color='#0504aa',alpha=0.7, rwidth=0.85)\n",
    "plt.title(\"Wine points distribution\")\n",
    "plt.show()"
   ]
  },
  {
   "cell_type": "code",
   "execution_count": 7,
   "metadata": {},
   "outputs": [
    {
     "data": {
      "image/png": "[encoded data removed]",
      "text/plain": [
       "<Figure size 432x288 with 1 Axes>"
      ]
     },
     "metadata": {
      "needs_background": "light"
     },
     "output_type": "display_data"
    }
   ],
   "source": [
    "plt.hist(dataset['rating'],bins=4,color='#0504aa',alpha=0.7, rwidth=2)\n",
    "plt.title(\"Wine rating distribution\")\n",
    "plt.show()"
   ]
  },
  {
   "cell_type": "code",
   "execution_count": 11,
   "metadata": {},
   "outputs": [
    {
     "name": "stdout",
     "output_type": "stream",
     "text": [
      "0                                                                                 Aromas include tropical fruit, broom, brimstone and dried herb. The palate isn't overly expressive, offering unripened apple, citrus and dried sage alongside brisk acidity.\n",
      "1                          This is ripe and fruity, a wine that is smooth while still structured. Firm tannins are filled out with juicy red berry fruits and freshened with acidity. It's  already drinkable, although it will certainly be better from 2016.\n",
      "2                                                                   Tart and snappy, the flavors of lime flesh and rind dominate. Some green pineapple pokes through, with crisp acidity underscoring the flavors. The wine was all stainless-steel fermented.\n",
      "3                                                      Pineapple rind, lemon pith and orange blossom start off the aromas. The palate is a bit more opulent, with notes of honey-drizzled guava and mango giving way to a slightly astringent, semidry finish.\n",
      "4    Much like the regular bottling from 2012, this comes across as rather rough and tannic, with rustic, earthy, herbal characteristics. Nonetheless, if you think of it as a pleasantly unfussy country wine, it's a good companion to a hearty winter stew.\n",
      "Name: description, dtype: object\n"
     ]
    }
   ],
   "source": [
    "pd.options.display.max_colwidth = 500\n",
    "print(dataset['description'][:5])"
   ]
  },
  {
   "cell_type": "markdown",
   "metadata": {},
   "source": [
    "## Cleaning description"
   ]
  },
  {
   "cell_type": "code",
   "execution_count": 6,
   "metadata": {},
   "outputs": [
    {
     "name": "stderr",
     "output_type": "stream",
     "text": [
      "[nltk_data] Downloading package punkt to /home/yang_jing/nltk_data...\n",
      "[nltk_data]   Package punkt is already up-to-date!\n"
     ]
    }
   ],
   "source": [
    "import seaborn as sns \n",
    "import matplotlib.pyplot as plt\n",
    "import nltk \n",
    "nltk.download('punkt')\n",
    "from nltk.tokenize.treebank import TreebankWordDetokenizer\n",
    "from nltk.corpus import stopwords\n",
    "from nltk import word_tokenize\n",
    "ps = PorterStemmer()\n",
    "\n"
   ]
  },
  {
   "cell_type": "code",
   "execution_count": 7,
   "metadata": {},
   "outputs": [],
   "source": [
    "# set seaborn style \n",
    "sns.set(style=\"whitegrid\")\n",
    "\n",
    "stopwords = set(stopwords.words('english'))\n",
    "detokenizer = TreebankWordDetokenizer()\n",
    "\n",
    "def clean_description(desc):\n",
    "    \n",
    "    desc = word_tokenize(desc.lower())\n",
    "    desc = [token for token in desc if token not in stopwords and token.isalpha()]\n",
    "    #desc = [token for token in desc.replace(\"\\n\",\" \").replace(\",\",\" , \").replace(\"(\",\" ( \").replace(\")\",\" ) \").\n",
    "    #        replace(\".\",\" . \").replace(\"?\",\" ? \").replace(\":\",\" : \").replace(\"n't\",\" not\").\n",
    "    #        replace(\"'ve\",\" have\").replace(\"'re\",\" are\").replace(\"'s\",\" is\").split(\" \") if token != \"\"]\n",
    "    desc = [ps.stem(word) for word in desc]\n",
    "    return detokenizer.detokenize(desc)\n",
    "\n",
    "dataset[\"cleaned_description\"] = dataset[\"description\"].apply(clean_description)\n",
    "\n"
   ]
  },
  {
   "cell_type": "code",
   "execution_count": 8,
   "metadata": {},
   "outputs": [
    {
     "data": {
      "image/png": "[encoded data removed]",
      "text/plain": [
       "<Figure size 432x288 with 1 Axes>"
      ]
     },
     "metadata": {},
     "output_type": "display_data"
    },
    {
     "data": {
      "image/png": "[encoded data removed]",
      "text/plain": [
       "<Figure size 432x288 with 1 Axes>"
      ]
     },
     "metadata": {},
     "output_type": "display_data"
    },
    {
     "data": {
      "image/png": "[encoded data removed]",
      "text/plain": [
       "<Figure size 432x288 with 1 Axes>"
      ]
     },
     "metadata": {},
     "output_type": "display_data"
    },
    {
     "data": {
      "image/png": "[encoded data removed]",
      "text/plain": [
       "<Figure size 432x288 with 1 Axes>"
      ]
     },
     "metadata": {},
     "output_type": "display_data"
    }
   ],
   "source": [
    "word_occurrence=[]\n",
    "top_words=[]\n",
    "for i in range(0,4):\n",
    "    word_occurrence.append(dataset[\"cleaned_description\"][dataset[\"rating\"]==i].str.split(expand=True).stack().value_counts())\n",
    "    total_words = sum(word_occurrence[i])\n",
    "    top_words.append(word_occurrence[i][:10]/total_words)\n",
    "\n",
    "    ax = sns.barplot(x = top_words[i].values, y = top_words[i].index)\n",
    "\n",
    "    # Setting title \n",
    "    ax.set_title(\"% Occurrence of Most Frequent Words for rating \" + str(i))\n",
    "\n",
    "    plt.show()"
   ]
  },
  {
   "cell_type": "code",
   "execution_count": 9,
   "metadata": {},
   "outputs": [
    {
     "name": "stdout",
     "output_type": "stream",
     "text": [
      "(64985, 64986, 64985, 64986)\n"
     ]
    }
   ],
   "source": [
    "\n",
    "#check train, test, and sample size\n",
    "seed = 10\n",
    "X_train, X_test, y_train, y_test = ms.train_test_split(dataset['cleaned_description'], dataset['rating'], test_size=0.5,random_state=seed)\n",
    "#X_train=dataset['cleaned_description'][:2000]\n",
    "#X_test=dataset['cleaned_description'][2000:2500]\n",
    "#y_train=dataset['rating'][:2000]\n",
    "#y_test=dataset['rating'][2000:2500]\n",
    "\n",
    "print(len(X_train), len(X_test), len(y_train),len(y_test))"
   ]
  },
  {
   "cell_type": "markdown",
   "metadata": {},
   "source": [
    "## CountVectorizer"
   ]
  },
  {
   "cell_type": "code",
   "execution_count": 10,
   "metadata": {},
   "outputs": [
    {
     "data": {
      "text/plain": [
       "CountVectorizer(analyzer=u'word', binary=False, decode_error=u'strict',\n",
       "        dtype=<type 'numpy.int64'>, encoding=u'utf-8', input=u'content',\n",
       "        lowercase=True, max_df=1.0, max_features=None, min_df=1,\n",
       "        ngram_range=(1, 1), preprocessor=None, stop_words=None,\n",
       "        strip_accents=None, token_pattern=u'(?u)\\\\b\\\\w\\\\w+\\\\b',\n",
       "        tokenizer=None, vocabulary=None)"
      ]
     },
     "execution_count": 10,
     "metadata": {},
     "output_type": "execute_result"
    }
   ],
   "source": [
    "from sklearn.feature_extraction.text import CountVectorizer, TfidfVectorizer\n",
    "vectorizer = CountVectorizer()\n",
    "vectorizer.fit(X_train)"
   ]
  },
  {
   "cell_type": "code",
   "execution_count": 11,
   "metadata": {},
   "outputs": [
    {
     "name": "stdout",
     "output_type": "stream",
     "text": [
      "('Shape of Sparse Matrix: ', (64985, 16705))\n",
      "('Amount of Non-Zero occurrences: ', 1500717)\n",
      "Density: 0.138241742384\n"
     ]
    }
   ],
   "source": [
    "X_train_new = vectorizer.transform(X_train)\n",
    "X_test_new=vectorizer.transform(X_test)\n",
    "print('Shape of Sparse Matrix: ', X_train_new.shape)\n",
    "print('Amount of Non-Zero occurrences: ', X_train_new.nnz)\n",
    "# Percentage of non-zero values\n",
    "density = (100.0 * X_train_new.nnz / (X_train_new.shape[0] * X_train_new.shape[1]))\n",
    "print('Density: {}'.format((density)))"
   ]
  },
  {
   "cell_type": "markdown",
   "metadata": {},
   "source": [
    "## Random forest"
   ]
  },
  {
   "cell_type": "code",
   "execution_count": 12,
   "metadata": {},
   "outputs": [
    {
     "name": "stderr",
     "output_type": "stream",
     "text": [
      "/home/yang_jing/.local/lib/python2.7/site-packages/sklearn/ensemble/forest.py:246: FutureWarning: The default value of n_estimators will change from 10 in version 0.20 to 100 in 0.22.\n",
      "  \"10 in version 0.20 to 100 in 0.22.\", FutureWarning)\n"
     ]
    },
    {
     "name": "stdout",
     "output_type": "stream",
     "text": [
      "              precision    recall  f1-score   support\n",
      "\n",
      "           0       0.65      0.43      0.52     11021\n",
      "           1       0.65      0.89      0.75     37170\n",
      "           2       0.71      0.30      0.42     16351\n",
      "           3       0.50      0.00      0.00       444\n",
      "\n",
      "   micro avg       0.66      0.66      0.66     64986\n",
      "   macro avg       0.63      0.40      0.42     64986\n",
      "weighted avg       0.67      0.66      0.62     64986\n",
      "\n"
     ]
    }
   ],
   "source": [
    "# Training the model\n",
    "\n",
    "from sklearn.ensemble import RandomForestClassifier\n",
    "from sklearn.metrics import confusion_matrix, classification_report\n",
    "rfc = RandomForestClassifier()\n",
    "rfc.fit(X_train_new, y_train)\n",
    "\n",
    "# Testing the model\n",
    "predictions = rfc.predict(X_test_new)\n",
    "print(classification_report(y_test, predictions))"
   ]
  },
  {
   "cell_type": "code",
   "execution_count": 35,
   "metadata": {},
   "outputs": [
    {
     "name": "stdout",
     "output_type": "stream",
     "text": [
      "0.6554642538392884\n"
     ]
    },
    {
     "data": {
      "text/plain": [
       "array([[ 4799,  2501,   165,     1],\n",
       "       [ 6168, 32914, 11304,   186],\n",
       "       [   54,  1755,  4882,   256],\n",
       "       [    0,     0,     0,     1]])"
      ]
     },
     "execution_count": 35,
     "metadata": {},
     "output_type": "execute_result"
    }
   ],
   "source": [
    "print(rfc.score(X_test_new, y_test))\n",
    "confusion_matrix(predictions,y_test)"
   ]
  },
  {
   "cell_type": "markdown",
   "metadata": {},
   "source": [
    "## Naive Bayes with Countvectorizer"
   ]
  },
  {
   "cell_type": "code",
   "execution_count": 13,
   "metadata": {},
   "outputs": [],
   "source": [
    "\n",
    "from sklearn.preprocessing import MaxAbsScaler\n",
    "#Scale data\n",
    "scaler = MaxAbsScaler()  # Default behavior is to scale to [0,1]\n",
    "scaled_train = scaler.fit_transform(X_train_new)\n",
    "scaled_test = scaler.transform(X_test_new)"
   ]
  },
  {
   "cell_type": "code",
   "execution_count": 37,
   "metadata": {},
   "outputs": [
    {
     "name": "stderr",
     "output_type": "stream",
     "text": [
      "/home/yang_jing/.local/lib/python2.7/site-packages/sklearn/model_selection/_split.py:2052: FutureWarning: You should specify a value for 'cv' instead of relying on the default value. The default value will change from 3 to 5 in version 0.22.\n",
      "  warnings.warn(CV_WARNING, FutureWarning)\n"
     ]
    },
    {
     "data": {
      "text/plain": [
       "0.704243991013449"
      ]
     },
     "execution_count": 37,
     "metadata": {},
     "output_type": "execute_result"
    }
   ],
   "source": [
    "# Use GridSearchCV to find optimal alpha\n",
    "nb_model = ms.GridSearchCV(nb.BernoulliNB(), param_grid={'alpha': np.logspace(-2., 2., 50)})\n",
    "nb_model.fit(X_train_new, y_train)\n",
    "nb_model.score(X_test_new, y_test)"
   ]
  },
  {
   "cell_type": "code",
   "execution_count": 38,
   "metadata": {},
   "outputs": [
    {
     "name": "stdout",
     "output_type": "stream",
     "text": [
      "              precision    recall  f1-score   support\n",
      "\n",
      "           0       0.64      0.44      0.52     11021\n",
      "           1       0.65      0.89      0.75     37170\n",
      "           2       0.70      0.30      0.42     16351\n",
      "           3       1.00      0.00      0.00       444\n",
      "\n",
      "   micro avg       0.66      0.66      0.66     64986\n",
      "   macro avg       0.75      0.41      0.42     64986\n",
      "weighted avg       0.66      0.66      0.62     64986\n",
      "\n",
      "[[ 4799  2501   165     1]\n",
      " [ 6168 32914 11304   186]\n",
      " [   54  1755  4882   256]\n",
      " [    0     0     0     1]]\n"
     ]
    }
   ],
   "source": [
    "# Testing the model\n",
    "predictions = rfc.predict(X_test_new)\n",
    "print(classification_report(y_test, predictions))\n",
    "print(confusion_matrix(predictions,y_test))"
   ]
  },
  {
   "cell_type": "markdown",
   "metadata": {},
   "source": [
    "## SVM with Countvectorizer"
   ]
  },
  {
   "cell_type": "code",
   "execution_count": 16,
   "metadata": {},
   "outputs": [
    {
     "data": {
      "text/plain": [
       "0.7086449389099191"
      ]
     },
     "execution_count": 16,
     "metadata": {},
     "output_type": "execute_result"
    }
   ],
   "source": [
    "#svm_model = ms.GridSearchCV(svm.SVC(kernel='rbf',cache_size=7000), \n",
    " #                           {'C': [0.001, 0.01, 0.1, 1, 10], 'gamma' : [0.001, 0.01, 0.1, 1]}, \n",
    "  #                          cv=5)\n",
    "\n",
    "svm_model = svm.LinearSVC()\n",
    "svm_model.fit(scaled_train, y_train)\n",
    "svm_model.score(scaled_test, y_test)"
   ]
  },
  {
   "cell_type": "code",
   "execution_count": 17,
   "metadata": {},
   "outputs": [
    {
     "name": "stdout",
     "output_type": "stream",
     "text": [
      "              precision    recall  f1-score   support\n",
      "\n",
      "           0       0.18      0.97      0.31     11021\n",
      "           1       0.50      0.09      0.15     37170\n",
      "           2       0.81      0.00      0.00     16351\n",
      "           3       0.00      0.00      0.00       444\n",
      "\n",
      "   micro avg       0.21      0.21      0.21     64986\n",
      "   macro avg       0.37      0.26      0.11     64986\n",
      "weighted avg       0.52      0.21      0.14     64986\n",
      "\n",
      "[[10718 33951 13503   323]\n",
      " [  303  3218  2835   119]\n",
      " [    0     1    13     2]\n",
      " [    0     0     0     0]]\n"
     ]
    },
    {
     "name": "stderr",
     "output_type": "stream",
     "text": [
      "/home/yang_jing/.local/lib/python2.7/site-packages/sklearn/metrics/classification.py:1143: UndefinedMetricWarning: Precision and F-score are ill-defined and being set to 0.0 in labels with no predicted samples.\n",
      "  'precision', 'predicted', average, warn_for)\n"
     ]
    }
   ],
   "source": [
    "# Testing the model\n",
    "predictions = rfc.predict(scaled_test)\n",
    "print(classification_report(y_test, predictions))\n",
    "print(confusion_matrix(predictions,y_test))"
   ]
  },
  {
   "cell_type": "markdown",
   "metadata": {},
   "source": [
    "## TF-IDF Vectorizer"
   ]
  },
  {
   "cell_type": "code",
   "execution_count": 13,
   "metadata": {},
   "outputs": [],
   "source": [
    "def simple_prepro_tfidf(s):\n",
    "    return \" \".join([w for w in s.lower().replace(\"\\n\",\" \").replace(\",\",\" , \").replace(\"(\",\" ( \").replace(\")\",\" ) \").\n",
    "            replace(\".\",\" . \").replace(\"?\",\" ? \").replace(\":\",\" : \").replace(\"n't\",\" not\").\n",
    "            replace(\"'ve\",\" have\").replace(\"'re\",\" are\").replace(\"'s\",\" is\").split(\" \") if w != \"\"])"
   ]
  },
  {
   "cell_type": "code",
   "execution_count": 25,
   "metadata": {},
   "outputs": [
    {
     "name": "stdout",
     "output_type": "stream",
     "text": [
      "(64985, 1448040)\n",
      "(64985, 50)\n"
     ]
    }
   ],
   "source": [
    "# Vectorizing model\n",
    "vectorizer_tfidf = TfidfVectorizer(ngram_range=(1, 3))\n",
    "tsvd = TruncatedSVD(n_components = 50)\n",
    "\n",
    "X_train_tfidf = vectorizer_tfidf.fit_transform([simple_prepro_tfidf(s) for s in X_train])\n",
    "print(X_train_tfidf.shape)\n",
    "X_train_tfidf = tsvd.fit_transform(X_train_tfidf)\n",
    "print(X_train_tfidf.shape)\n",
    "\n",
    "X_test_tfidf=vectorizer_tfidf.transform(X_test)\n",
    "X_test_tfidf = tsvd.transform(X_test_tfidf)"
   ]
  },
  {
   "cell_type": "code",
   "execution_count": 20,
   "metadata": {},
   "outputs": [],
   "source": [
    "scaled_train_tfidf = scaler.fit_transform(X_train_tfidf)\n",
    "scaled_test_tfidf = scaler.transform(X_test_tfidf)"
   ]
  },
  {
   "cell_type": "code",
   "execution_count": 21,
   "metadata": {},
   "outputs": [
    {
     "name": "stdout",
     "output_type": "stream",
     "text": [
      "              precision    recall  f1-score   support\n",
      "\n",
      "           0       0.53      0.33      0.41     11021\n",
      "           1       0.64      0.82      0.72     37170\n",
      "           2       0.56      0.36      0.44     16351\n",
      "           3       0.33      0.00      0.00       444\n",
      "\n",
      "   micro avg       0.61      0.61      0.61     64986\n",
      "   macro avg       0.52      0.38      0.39     64986\n",
      "weighted avg       0.60      0.61      0.59     64986\n",
      "\n"
     ]
    }
   ],
   "source": [
    "rfc = RandomForestClassifier()\n",
    "rfc.fit(scaled_train_tfidf, y_train)\n",
    "\n",
    "# Testing model\n",
    "predictions = rfc.predict(scaled_test_tfidf)\n",
    "print(classification_report(y_test, predictions))"
   ]
  },
  {
   "cell_type": "code",
   "execution_count": 22,
   "metadata": {},
   "outputs": [
    {
     "data": {
      "text/plain": [
       "0.6136090850336996"
      ]
     },
     "execution_count": 22,
     "metadata": {},
     "output_type": "execute_result"
    }
   ],
   "source": [
    "rfc.score(scaled_test_tfidf, y_test)"
   ]
  },
  {
   "cell_type": "code",
   "execution_count": 23,
   "metadata": {},
   "outputs": [
    {
     "name": "stderr",
     "output_type": "stream",
     "text": [
      "/home/yang_jing/.local/lib/python2.7/site-packages/sklearn/model_selection/_split.py:2052: FutureWarning: You should specify a value for 'cv' instead of relying on the default value. The default value will change from 3 to 5 in version 0.22.\n",
      "  warnings.warn(CV_WARNING, FutureWarning)\n"
     ]
    },
    {
     "data": {
      "text/plain": [
       "0.6163635244514203"
      ]
     },
     "execution_count": 23,
     "metadata": {},
     "output_type": "execute_result"
    }
   ],
   "source": [
    "# Use GridSearchCV to find optimal alpha\n",
    "nb_model_tfidf = ms.GridSearchCV(nb.BernoulliNB(), param_grid={'alpha': np.logspace(-2., 2., 50)})\n",
    "nb_model_tfidf.fit(scaled_train_tfidf, y_train)\n",
    "nb_model_tfidf.score(scaled_test_tfidf, y_test)"
   ]
  },
  {
   "cell_type": "code",
   "execution_count": 24,
   "metadata": {},
   "outputs": [
    {
     "name": "stdout",
     "output_type": "stream",
     "text": [
      "              precision    recall  f1-score   support\n",
      "\n",
      "           0       0.59      0.25      0.35     11021\n",
      "           1       0.62      0.87      0.73     37170\n",
      "           2       0.59      0.30      0.39     16351\n",
      "           3       0.00      0.00      0.00       444\n",
      "\n",
      "   micro avg       0.62      0.62      0.62     64986\n",
      "   macro avg       0.45      0.35      0.37     64986\n",
      "weighted avg       0.61      0.62      0.57     64986\n",
      "\n"
     ]
    }
   ],
   "source": [
    "predictions = nb_model_tfidf.predict(scaled_test_tfidf)\n",
    "print(classification_report(y_test, predictions))"
   ]
  },
  {
   "cell_type": "code",
   "execution_count": 25,
   "metadata": {},
   "outputs": [
    {
     "data": {
      "text/plain": [
       "0.641384298156526"
      ]
     },
     "execution_count": 25,
     "metadata": {},
     "output_type": "execute_result"
    }
   ],
   "source": [
    "svm_model_tfidf = svm.LinearSVC()\n",
    "                           \n",
    "svm_model_tfidf.fit(scaled_train_tfidf, y_train)\n",
    "svm_model_tfidf.score(scaled_test_tfidf, y_test)"
   ]
  },
  {
   "cell_type": "code",
   "execution_count": 26,
   "metadata": {},
   "outputs": [
    {
     "name": "stdout",
     "output_type": "stream",
     "text": [
      "              precision    recall  f1-score   support\n",
      "\n",
      "           0       0.59      0.25      0.35     11021\n",
      "           1       0.62      0.87      0.73     37170\n",
      "           2       0.59      0.30      0.39     16351\n",
      "           3       0.00      0.00      0.00       444\n",
      "\n",
      "   micro avg       0.62      0.62      0.62     64986\n",
      "   macro avg       0.45      0.35      0.37     64986\n",
      "weighted avg       0.61      0.62      0.57     64986\n",
      "\n"
     ]
    }
   ],
   "source": [
    "predictions = nb_model_tfidf.predict(scaled_test_tfidf)\n",
    "print(classification_report(y_test, predictions))"
   ]
  },
  {
   "cell_type": "markdown",
   "metadata": {},
   "source": [
    "## GloVe"
   ]
  },
  {
   "cell_type": "code",
   "execution_count": 10,
   "metadata": {},
   "outputs": [],
   "source": [
    "# Fixed parameters\n",
    "\n",
    "num_classes = 4\n",
    "embedding_dim = 100 \n",
    "epochs = 5\n",
    "batch_size = 32\n",
    "max_len = 100\n",
    "alpha = 0.1\n",
    "\n",
    "from sklearn.utils import class_weight\n",
    "class_weights = class_weight.compute_class_weight('balanced',\n",
    "                                                 np.unique(y_train),\n",
    "                                                 y_train)\n"
   ]
  },
  {
   "cell_type": "code",
   "execution_count": 11,
   "metadata": {},
   "outputs": [
    {
     "data": {
      "text/plain": [
       "array([ 1.48516775,  0.43665672,  0.99044382, 37.17677346])"
      ]
     },
     "execution_count": 11,
     "metadata": {},
     "output_type": "execute_result"
    }
   ],
   "source": [
    "class_weights"
   ]
  },
  {
   "cell_type": "code",
   "execution_count": 12,
   "metadata": {},
   "outputs": [],
   "source": [
    "from keras.models import Model, load_model\n",
    "from keras.layers import Dense, Embedding, Input, Activation, Bidirectional, Dropout, GlobalMaxPooling1D\n",
    "from keras.preprocessing.text import Tokenizer\n",
    "from keras.preprocessing.sequence import pad_sequences\n",
    "from keras.callbacks import EarlyStopping, ModelCheckpoint, Callback"
   ]
  },
  {
   "cell_type": "code",
   "execution_count": 13,
   "metadata": {},
   "outputs": [
    {
     "name": "stdout",
     "output_type": "stream",
     "text": [
      "[1, 36, 137, 13, 68, 8, 422, 157, 1, 142, 1, 335, 9]\n",
      "[  0   0   0   0   0   0   0   0   0   0   0   0   0   0   0   0   0   0\n",
      "   0   0   0   0   0   0   0   0   0   0   0   0   0   0   0   0   0   0\n",
      "   0   0   0   0   0   0   0   0   0   0   0   0   0   0   0   0   0   0\n",
      "   0   0   0   0   0   0   0   0   0   0   0   0   0   0   0   0   0   0\n",
      "   0   0   0   0   0   0   0   0   0   0   0   0   0   0   0   1  36 137\n",
      "  13  68   8 422 157   1 142   1 335   9]\n",
      "(16721, 100)\n"
     ]
    }
   ],
   "source": [
    "# train tokenizer (only on training set)\n",
    "tokenizer = Tokenizer(num_words = None)\n",
    "tokenizer.fit_on_texts(X_train)\n",
    "\n",
    "vocab_size = tokenizer.word_index\n",
    "\n",
    "# fit tokenizer on training set\n",
    "sequences_train = tokenizer.texts_to_sequences(X_train)\n",
    "print(sequences_train[0])\n",
    "\n",
    "padded_train = pad_sequences(sequences_train, maxlen=max_len)\n",
    "print(padded_train[0])\n",
    "\n",
    "# fit tokenizer on testing set\n",
    "sequences_test = tokenizer.texts_to_sequences(X_test)\n",
    "padded_test = pad_sequences(sequences_test, maxlen = max_len)\n",
    "\n",
    "# create embedding layer \n",
    "# We can stipulate Out of Vocabulary word vectors here \n",
    "# In this case, they are initialized to zero vector\n",
    "embedding_matrix = np.zeros((len(vocab_size) + 1, embedding_dim))\n",
    "\n",
    "print(embedding_matrix.shape)"
   ]
  },
  {
   "cell_type": "code",
   "execution_count": 14,
   "metadata": {},
   "outputs": [],
   "source": [
    "#importing the glove library\n",
    "#import glove.Corpus \n",
    "from glove import Corpus, Glove"
   ]
  },
  {
   "cell_type": "code",
   "execution_count": 15,
   "metadata": {},
   "outputs": [],
   "source": [
    "#X_train=X_train.tolist()\n",
    "#X_train = X_train.tolist()\n",
    "\n",
    "#new_X_train = X_train.split(' ')\n",
    "new_X_train=[]\n",
    "for line in X_train:\n",
    "    new_X_train.append(line.split(' '))\n",
    "    \n",
    "new_X_test=[]\n",
    "for line in X_test:\n",
    "    new_X_test.append(line.split(' '))"
   ]
  },
  {
   "cell_type": "code",
   "execution_count": 16,
   "metadata": {},
   "outputs": [
    {
     "name": "stdout",
     "output_type": "stream",
     "text": [
      "Performing 30 training epochs with 4 threads\n",
      "Epoch 0\n",
      "Epoch 1\n",
      "Epoch 2\n",
      "Epoch 3\n",
      "Epoch 4\n",
      "Epoch 5\n",
      "Epoch 6\n",
      "Epoch 7\n",
      "Epoch 8\n",
      "Epoch 9\n",
      "Epoch 10\n",
      "Epoch 11\n",
      "Epoch 12\n",
      "Epoch 13\n",
      "Epoch 14\n",
      "Epoch 15\n",
      "Epoch 16\n",
      "Epoch 17\n",
      "Epoch 18\n",
      "Epoch 19\n",
      "Epoch 20\n",
      "Epoch 21\n",
      "Epoch 22\n",
      "Epoch 23\n",
      "Epoch 24\n",
      "Epoch 25\n",
      "Epoch 26\n",
      "Epoch 27\n",
      "Epoch 28\n",
      "Epoch 29\n"
     ]
    }
   ],
   "source": [
    "\n",
    "# creating a corpus object\n",
    "corpus = Corpus() \n",
    "#training the corpus to generate the co occurence matrix which is used in GloVe\n",
    "corpus.fit(new_X_train, window=10)\n",
    "#creating a Glove object which will use the matrix created in the above lines to create embeddings\n",
    "#We can set the learning rate as it uses Gradient Descent and number of components\n",
    "glove = Glove(no_components=100, learning_rate=0.01)\n",
    " \n",
    "glove.fit(corpus.matrix, epochs=30, no_threads=4, verbose=True)\n",
    "glove.add_dictionary(corpus.dictionary)\n",
    "#glove.save('glove_model')\n"
   ]
  },
  {
   "cell_type": "code",
   "execution_count": 17,
   "metadata": {},
   "outputs": [
    {
     "data": {
      "text/plain": [
       "(16721, 100)"
      ]
     },
     "execution_count": 17,
     "metadata": {},
     "output_type": "execute_result"
    }
   ],
   "source": [
    "embedding_matrix.shape"
   ]
  },
  {
   "cell_type": "code",
   "execution_count": 17,
   "metadata": {},
   "outputs": [],
   "source": [
    "for word, i in tokenizer.word_index.items():\n",
    "    embedding_vector = glove.word_vectors[glove.dictionary[word]]\n",
    "    #print(embedding_vector)\n",
    "    if embedding_vector is not None:\n",
    "        embedding_matrix[i] = embedding_vector"
   ]
  },
  {
   "cell_type": "markdown",
   "metadata": {},
   "source": [
    "## RNN Training"
   ]
  },
  {
   "cell_type": "code",
   "execution_count": 18,
   "metadata": {},
   "outputs": [],
   "source": [
    "from keras.models import Sequential\n",
    "from keras.layers import LSTM, Dense, Dropout, Masking, Embedding"
   ]
  },
  {
   "cell_type": "code",
   "execution_count": 19,
   "metadata": {},
   "outputs": [],
   "source": [
    "from keras.utils import to_categorical\n",
    "y_train_new = to_categorical(y_train,num_classes=4)\n",
    "y_test_new = to_categorical(y_test, num_classes=4)"
   ]
  },
  {
   "cell_type": "code",
   "execution_count": 20,
   "metadata": {},
   "outputs": [
    {
     "data": {
      "text/plain": [
       "(64986, 4)"
      ]
     },
     "execution_count": 20,
     "metadata": {},
     "output_type": "execute_result"
    }
   ],
   "source": [
    "y_test_new.shape"
   ]
  },
  {
   "cell_type": "code",
   "execution_count": 21,
   "metadata": {},
   "outputs": [],
   "source": [
    "embedding_layer = Embedding(len(tokenizer.word_index) + 1, embedding_dim, weights = [embedding_matrix], input_length = max_len, trainable = False) \n",
    "input= Input(shape=(max_len, ), dtype = 'int32')\n",
    "embedded_sequences = embedding_layer(input) \n"
   ]
  },
  {
   "cell_type": "code",
   "execution_count": 22,
   "metadata": {},
   "outputs": [],
   "source": [
    "x = Bidirectional(LSTM(128,  return_sequences=True, \n",
    "               dropout=0.1, recurrent_dropout=0.1))(embedded_sequences)\n",
    "x = GlobalMaxPooling1D()(x)\n",
    "x = Dense(50, activation = 'relu')(x)\n",
    "x = Dropout(0.1)(x)\n",
    "# let's add a fully-connected layer\n",
    "x = Dense(4, activation='relu')(x)\n",
    "\n",
    "output = Dense(num_classes, activation='softmax')(x)\n",
    "model = Model(inputs=input, outputs=output)\n",
    "model.compile(loss=\"categorical_crossentropy\", optimizer='adam', metrics=['accuracy'])\n",
    "        \n",
    "checkpoint = ModelCheckpoint(\"model.h5\", monitor='val_loss', verbose=1, save_best_only=True, mode='min')\n",
    "early = EarlyStopping(monitor='val_loss', mode='min', patience=3)\n",
    "callback = [checkpoint, early]\n",
    "\n"
   ]
  },
  {
   "cell_type": "code",
   "execution_count": 23,
   "metadata": {},
   "outputs": [
    {
     "name": "stdout",
     "output_type": "stream",
     "text": [
      "WARNING:tensorflow:From /home/yang_jing/.local/lib/python2.7/site-packages/keras/backend/tensorflow_backend.py:422: The name tf.global_variables is deprecated. Please use tf.compat.v1.global_variables instead.\n",
      "\n",
      "Train on 64985 samples, validate on 64986 samples\n",
      "Epoch 1/5\n",
      "64985/64985 [==============================] - 717s 11ms/step - loss: 0.8665 - accuracy: 0.6080 - val_loss: 0.7884 - val_accuracy: 0.6481\n",
      "\n",
      "Epoch 00001: val_loss improved from inf to 0.78837, saving model to model.h5\n",
      "Epoch 2/5\n",
      "64985/64985 [==============================] - 719s 11ms/step - loss: 0.7871 - accuracy: 0.6466 - val_loss: 0.7521 - val_accuracy: 0.6632\n",
      "\n",
      "Epoch 00002: val_loss improved from 0.78837 to 0.75209, saving model to model.h5\n",
      "Epoch 3/5\n",
      "64985/64985 [==============================] - 710s 11ms/step - loss: 0.7666 - accuracy: 0.6534 - val_loss: 0.7501 - val_accuracy: 0.6593\n",
      "\n",
      "Epoch 00003: val_loss improved from 0.75209 to 0.75011, saving model to model.h5\n",
      "Epoch 4/5\n",
      "64985/64985 [==============================] - 719s 11ms/step - loss: 0.7545 - accuracy: 0.6611 - val_loss: 0.7258 - val_accuracy: 0.6726\n",
      "\n",
      "Epoch 00004: val_loss improved from 0.75011 to 0.72577, saving model to model.h5\n",
      "Epoch 5/5\n",
      "64985/64985 [==============================] - 714s 11ms/step - loss: 0.7413 - accuracy: 0.6665 - val_loss: 0.7169 - val_accuracy: 0.6794\n",
      "\n",
      "Epoch 00005: val_loss improved from 0.72577 to 0.71690, saving model to model.h5\n"
     ]
    }
   ],
   "source": [
    "history = model.fit(padded_train, y_train_new, batch_size=batch_size, epochs=epochs, validation_data=(padded_test, y_test_new), callbacks=callback, class_weight = class_weights)\n"
   ]
  },
  {
   "cell_type": "code",
   "execution_count": 24,
   "metadata": {},
   "outputs": [
    {
     "name": "stdout",
     "output_type": "stream",
     "text": [
      "Model: \"model_1\"\n",
      "_________________________________________________________________\n",
      "Layer (type)                 Output Shape              Param #   \n",
      "=================================================================\n",
      "input_1 (InputLayer)         (None, 100)               0         \n",
      "_________________________________________________________________\n",
      "embedding_1 (Embedding)      (None, 100, 100)          1672100   \n",
      "_________________________________________________________________\n",
      "bidirectional_1 (Bidirection (None, 100, 256)          234496    \n",
      "_________________________________________________________________\n",
      "global_max_pooling1d_1 (Glob (None, 256)               0         \n",
      "_________________________________________________________________\n",
      "dense_1 (Dense)              (None, 50)                12850     \n",
      "_________________________________________________________________\n",
      "dropout_1 (Dropout)          (None, 50)                0         \n",
      "_________________________________________________________________\n",
      "dense_2 (Dense)              (None, 4)                 204       \n",
      "_________________________________________________________________\n",
      "dense_3 (Dense)              (None, 4)                 20        \n",
      "=================================================================\n",
      "Total params: 1,919,670\n",
      "Trainable params: 247,570\n",
      "Non-trainable params: 1,672,100\n",
      "_________________________________________________________________\n"
     ]
    }
   ],
   "source": [
    "model.summary()"
   ]
  },
  {
   "cell_type": "code",
   "execution_count": 29,
   "metadata": {},
   "outputs": [
    {
     "data": {
      "text/plain": [
       "['loss', 'val_accuracy', 'val_loss', 'accuracy']"
      ]
     },
     "execution_count": 29,
     "metadata": {},
     "output_type": "execute_result"
    }
   ],
   "source": [
    "history.history.keys()"
   ]
  },
  {
   "cell_type": "code",
   "execution_count": 31,
   "metadata": {},
   "outputs": [
    {
     "name": "stdout",
     "output_type": "stream",
     "text": [
      "[0.60798645, 0.64658, 0.65339696, 0.66107565, 0.66650766]\n",
      "[0.6481242179870605, 0.6632043719291687, 0.6593419909477234, 0.6725756525993347, 0.6794386506080627]\n"
     ]
    }
   ],
   "source": [
    "print(history.history['accuracy'])\n",
    "print(history.history['val_accuracy'])"
   ]
  },
  {
   "cell_type": "code",
   "execution_count": 27,
   "metadata": {},
   "outputs": [
    {
     "data": {
      "image/png": "[encoded data removed]",
      "text/plain": [
       "<Figure size 432x288 with 1 Axes>"
      ]
     },
     "metadata": {},
     "output_type": "display_data"
    }
   ],
   "source": [
    "plt.plot(history.history['loss'])\n",
    "plt.plot(history.history['val_loss'])\n",
    "plt.title('model train vs validation loss')\n",
    "plt.ylabel('loss')\n",
    "plt.xlabel('epoch')\n",
    "plt.legend(['train', 'validation'], loc='upper right')\n",
    "plt.show()"
   ]
  },
  {
   "cell_type": "code",
   "execution_count": null,
   "metadata": {},
   "outputs": [],
   "source": []
  }
 ],
 "metadata": {
  "kernelspec": {
   "display_name": "Python 2",
   "language": "python",
   "name": "python2"
  },
  "language_info": {
   "codemirror_mode": {
    "name": "ipython",
    "version": 2
   },
   "file_extension": ".py",
   "mimetype": "text/x-python",
   "name": "python",
   "nbconvert_exporter": "python",
   "pygments_lexer": "ipython2",
   "version": "2.7.15+"
  }
 },
 "nbformat": 4,
 "nbformat_minor": 1
}
